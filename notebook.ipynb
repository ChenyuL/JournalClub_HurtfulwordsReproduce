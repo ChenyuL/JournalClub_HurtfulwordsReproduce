{
 "cells": [
  {
   "cell_type": "markdown",
   "metadata": {
    "cell_id": "00001-d0aba14a-d426-4061-89a3-a44a0e3e6db8",
    "deepnote_app_coordinates": {
     "h": 11,
     "w": 14,
     "x": 0,
     "y": 0
    },
    "deepnote_cell_type": "markdown",
    "slideshow": {
     "slide_type": "slide"
    },
    "tags": []
   },
   "source": [
    "# Hurtful Words: Quantifying Biases in Clinical Contextual Word Embeddings"
   ]
  },
  {
   "cell_type": "markdown",
   "metadata": {
    "cell_id": "00005-8a4f4ccb-7915-4acc-b841-e42cb186c146",
    "deepnote_cell_type": "markdown",
    "slideshow": {
     "slide_type": "subslide"
    },
    "tags": []
   },
   "source": [
    "Haoran Zhang, Amy X. Lu, Mohamed Abdalla, Matthew McDermott, and Marzyeh Ghassemi. 2020.\n",
    "Hurtful words: quantifying biases in clinical contextual word embeddings.\n",
    "In Proceedings of the ACM Conference on Health, Inference, and Learning (CHIL ’20).\n",
    "Association for Computing Machinery, New York, NY, USA, 110–120."
   ]
  },
  {
   "cell_type": "markdown",
   "metadata": {
    "cell_id": "00002-3fd5194a-8700-439e-a1d9-2b903381d37e",
    "deepnote_cell_type": "text-cell-h2",
    "is_collapsed": false,
    "slideshow": {
     "slide_type": "slide"
    },
    "tags": []
   },
   "source": [
    "## Introduction:"
   ]
  },
  {
   "cell_type": "markdown",
   "metadata": {
    "cell_id": "00004-f5a2cd1c-2b8b-438f-a9b3-e9a5257227a5",
    "deepnote_cell_type": "markdown",
    "slideshow": {
     "slide_type": "subslide"
    },
    "tags": []
   },
   "source": [
    "### Why we chose this Paper?\n",
    "\n",
    "- This paper focuses around faireness in NLP tecniques as applied to Biomedical Research.\n",
    "- The research was performed on publicly available data: The Dataset used was [MIMIC III](https://physionet.org/content/mimiciii-demo/1.4/)\n",
    "- The code for the original work is avaiable on (GitHub)[https://github.com/MLforHealth/HurtfulWords]"
   ]
  },
  {
   "cell_type": "markdown",
   "metadata": {
    "cell_id": "00004-6c793fae-fb71-4ca9-a0ce-856aea5ae126",
    "deepnote_cell_type": "markdown",
    "slideshow": {
     "slide_type": "subslide"
    },
    "tags": []
   },
   "source": [
    "### Informatics and Biomedical problem:\n",
    "\n",
    "- The contextual word embeddings approach commonly utilized by NLP Transformer models such as BERT can learn to encoding the represent marginalized populations differently.\n",
    "\n",
    "- If these biased models are used in the biomedical scenario, it can lead to worsened performance on clinical tasks disproportionally affecting marginalized populations.\n",
    "\n",
    "- Limited approached for addressing the potential sources of bias exist for contextual word embeddings."
   ]
  },
  {
   "cell_type": "markdown",
   "metadata": {
    "cell_id": "00005-f84b5500-b477-4d53-acec-2bfebc851ae7",
    "deepnote_cell_type": "text-cell-h2",
    "is_collapsed": false,
    "slideshow": {
     "slide_type": "slide"
    },
    "tags": []
   },
   "source": [
    "## Background:"
   ]
  },
  {
   "cell_type": "markdown",
   "metadata": {
    "cell_id": "00011-a117330b-546d-47fb-9d3b-b38e25779bd3",
    "deepnote_cell_type": "markdown",
    "slideshow": {
     "slide_type": "subslide"
    },
    "tags": []
   },
   "source": [
    "#### Contextual Word Embeddings:\n",
    "\n",
    "Contextual are a particular approach to word embeddings that change the representation of a word given its surrounding context.\n",
    "\n",
    "\n",
    "![Word Embeddings](embeddigns.png)\n",
    "\n",
    "Devlin, J., Chang, M. W., Lee, K., & Toutanova, K. (2018). Bert: Pre-training of deep bidirectional transformers for language understanding. arXiv preprint arXiv:1810.04805."
   ]
  },
  {
   "cell_type": "markdown",
   "metadata": {
    "cell_id": "00007-e4c2315f-c993-4821-b546-bbe91e500496",
    "deepnote_cell_type": "markdown",
    "slideshow": {
     "slide_type": "subslide"
    },
    "tags": []
   },
   "source": [
    "### Fairness of Word Embeddings"
   ]
  },
  {
   "cell_type": "markdown",
   "metadata": {
    "cell_id": "00004-b92ac601-5b1c-4ad9-bf97-5952e5084273",
    "deepnote_cell_type": "markdown",
    "slideshow": {
     "slide_type": "subslide"
    },
    "tags": []
   },
   "source": [
    "Word embeddings have been shown \n",
    "\n",
    "\n",
    "![ContextualWordEmbbeding](image-20211211-113301.png)\n",
    "\n",
    "**Figure 1:**  When prompted to generate course of action in a fill-in-the-blank task, SciBERT generates different results for different races. Templates are adapted from real clinical notes in the MIMIC-III database, where the shorthand “pt\" abbreviates “patient\"."
   ]
  },
  {
   "cell_type": "markdown",
   "metadata": {
    "cell_id": "00009-acbb6055-6ff0-4cf0-8b5f-da1ef6a734c0",
    "deepnote_cell_type": "text-cell-h2",
    "is_collapsed": false,
    "slideshow": {
     "slide_type": "subslide"
    },
    "tags": []
   },
   "source": [
    "## Aims:"
   ]
  },
  {
   "cell_type": "markdown",
   "metadata": {
    "cell_id": "00010-26aaaba7-732d-4bb5-8883-d88229fc96f5",
    "deepnote_cell_type": "markdown",
    "slideshow": {
     "slide_type": "subslide"
    },
    "tags": []
   },
   "source": [
    "1. Identify the dangerous relationships within text from real clinical notes that are captured by the contextual word embeddings.\n",
    "2. Evaluate performance across different definitions of fairness on a set of clinical prediction tasks.\n",
    "3. Observe the effectiveness of using adversarial debiasing."
   ]
  },
  {
   "cell_type": "markdown",
   "metadata": {
    "cell_id": "00009-4ca427a2-0bd6-47b6-9b31-32f5981aa66a",
    "deepnote_cell_type": "text-cell-h2",
    "is_collapsed": false,
    "slideshow": {
     "slide_type": "slide"
    },
    "tags": []
   },
   "source": [
    "## Methods:"
   ]
  },
  {
   "cell_type": "markdown",
   "metadata": {
    "cell_id": "00012-515073a7-19d5-4cb8-a583-5ae8aa9c260f",
    "deepnote_cell_type": "markdown",
    "slideshow": {
     "slide_type": "subslide"
    },
    "tags": []
   },
   "source": [
    "### Workflow \n",
    "![Workflow](Workflow.png)"
   ]
  },
  {
   "cell_type": "markdown",
   "metadata": {
    "cell_id": "00013-2273e5ad-0cb7-4dab-a0f3-d58533bcbe1b",
    "deepnote_cell_type": "text-cell-h2",
    "is_collapsed": false,
    "slideshow": {
     "slide_type": "slide"
    },
    "tags": []
   },
   "source": [
    "## Paper reproduction:"
   ]
  },
  {
   "cell_type": "markdown",
   "metadata": {
    "cell_id": "00011-ec127aae-71db-47c4-ad0b-bdabf8183ef9",
    "deepnote_cell_type": "markdown",
    "slideshow": {
     "slide_type": "subslide"
    },
    "tags": []
   },
   "source": [
    "### Step 1. Extract notes and demographics from MIMIC Data \n",
    "\n",
    "To train a BERT derivative for this project you need to do extensive data preparation, this includes: \n",
    "1. Aquiring Access to MIMIC-III from [PhysioNet](https://physionet.org/content/mimiciii/1.4/)\n",
    "    - Researchers are required to formally request access: \n",
    "        - Must complete a recognized (HIPAA) course.\n",
    "        - Sign a data use agreement.\n",
    "\n",
    "    - Total uncompressed size: 6.2 GB of raw data.\n",
    "\n",
    "2. Creating a PostgreSQL DB following the [mimic-code repo](https://github.com/MIT-LCP/mimic-code)\n",
    "    > Loading the data into a PostgreSQL database requires around ~47 GB of space. The addition of indexes adds another 26 GB. You will likely want to reserve 100 GB for the entire database.\n",
    "    \n",
    "3. Building a separate set of abstractions from the data using [mimic-code Repo concepts section](https://github.com/MIT-LCP/mimic-code/tree/main/mimic-iii/concepts) \n",
    "4. Build a machine learning dataset from mimic known as [mimic3-benchmarks](https://github.com/YerevaNN/mimic3-benchmarks) \n",
    "5. Run the data generation and build pipeline specified by the paper [Hurtful Words repo](https://github.com/MLforHealth/HurtfulWords)\n",
    "    > This script will require at least 50 GB of RAM, 100 GB of disk space in OUTPUT_DIR, and will take several days to complete.\n",
    " \n",
    " \n"
   ]
  },
  {
   "cell_type": "markdown",
   "metadata": {
    "slideshow": {
     "slide_type": "subslide"
    }
   },
   "source": [
    "##### However:  Dataset Creation Fail \n",
    "\n",
    "![Training Fail](fail.png)\n",
    "\n",
    "#### We could not replicate the work done in the paper, due to a limitation in computational resources the process for generating the dataset would continously fail. "
   ]
  },
  {
   "cell_type": "markdown",
   "metadata": {
    "cell_id": "00015-a60e1833-2b59-4cbc-abfb-920f363d08ac",
    "deepnote_cell_type": "markdown",
    "slideshow": {
     "slide_type": "slide"
    },
    "tags": []
   },
   "source": [
    "### Step 2 : Process text and generate BERT pretraining data() \n",
    "### Step 3 : Train baseline ClinicalBERT \n",
    "### Step 4 : Process text and generate 57 downstream binary classification tasks(finetuning)"
   ]
  },
  {
   "cell_type": "markdown",
   "metadata": {
    "cell_id": "00014-83261087-a6ff-4322-8689-c9d316d567a4",
    "deepnote_cell_type": "markdown",
    "slideshow": {
     "slide_type": "subslide"
    },
    "tags": []
   },
   "source": [
    "A significant amount of the data need to be load to a machine to train the ClinicalBERT model and downstream tasks. Step 2, 3 and 4 \n",
    "\n",
    "We attemped to reproduce the work done in the original paper at a **smaller scale**. We selected *in-hospital mortality task* to evaluate the original baseline and debiased BERT models. "
   ]
  },
  {
   "cell_type": "code",
   "execution_count": 1,
   "metadata": {
    "cell_id": "00011-6b6edf21-1035-455f-8dc6-7c8c2d30a56d",
    "deepnote_cell_type": "code",
    "deepnote_output_heights": [
     null,
     382
    ],
    "deepnote_to_be_reexecuted": false,
    "execution_millis": 2130,
    "execution_start": 1639537333129,
    "slideshow": {
     "slide_type": "skip"
    },
    "source_hash": "4a39f80d",
    "tags": []
   },
   "outputs": [],
   "source": [
    "import torch\n",
    "from transformers import BertTokenizer, BertForSequenceClassification\n",
    "from transformers import AutoTokenizer, AutoModelForSequenceClassification\n",
    "from transformers import pipeline\n",
    "from pprint import pprint\n",
    "import pandas as pd \n",
    "import matplotlib.pyplot as plt\n",
    "import numpy as np\n",
    "import seaborn as sns "
   ]
  },
  {
   "cell_type": "code",
   "execution_count": 2,
   "metadata": {
    "cell_id": "00012-7ed04829-474a-498c-8aa9-e8a202f37473",
    "deepnote_cell_type": "code",
    "deepnote_to_be_reexecuted": false,
    "execution_millis": 5,
    "execution_start": 1639534243370,
    "slideshow": {
     "slide_type": "skip"
    },
    "source_hash": "d82eb2a1",
    "tags": []
   },
   "outputs": [],
   "source": [
    "# uncased_unmasker = pipeline(\"fill-mask\", model=\"bert-base-uncased\")\n",
    "# pprint(uncased_unmasker(\"[MASK] is prescribe [DRUG].\"))\n",
    "# pprint(uncased_unmasker(\"[MASK] pt became belligerent and violent.\"))\n",
    "# pprint(uncased_unmasker(\"black patient became belligerent and violent. sent to [MASK].\"))"
   ]
  },
  {
   "cell_type": "code",
   "execution_count": 3,
   "metadata": {
    "cell_id": "00013-411c27d7-83e6-4a77-8c59-89ab15cc0bf4",
    "deepnote_cell_type": "code",
    "deepnote_to_be_reexecuted": false,
    "execution_millis": 2,
    "execution_start": 1639534243383,
    "slideshow": {
     "slide_type": "skip"
    },
    "source_hash": "2f5ec74c",
    "tags": []
   },
   "outputs": [],
   "source": [
    "# bioclinical_unmasker = pipeline(\"fill-mask\", model=\"emilyalsentzer/Bio_ClinicalBERT\")\n",
    "# pprint(uncased_unmasker(\"[MASK] pt became belligerent and violent.\"))\n",
    "# pprint(bioclinical_unmasker(\"white patient became belligerent and violent. sent to [MASK].\"))\n",
    "# pprint(bioclinical_unmasker(\"black patient became belligerent and violent. sent to [MASK].\"))"
   ]
  },
  {
   "cell_type": "code",
   "execution_count": 4,
   "metadata": {
    "cell_id": "00015-c461cedf-40f9-4c9e-8c2b-31cf1cebe950",
    "deepnote_cell_type": "code",
    "deepnote_to_be_reexecuted": false,
    "execution_millis": 2242,
    "execution_start": 1639534243391,
    "slideshow": {
     "slide_type": "skip"
    },
    "source_hash": "594e7428",
    "tags": []
   },
   "outputs": [
    {
     "ename": "HTTPError",
     "evalue": "404 Client Error: Not Found for url: https://huggingface.co/api/models//work/baseline_clinical_BERT_1_epoch_512",
     "output_type": "error",
     "traceback": [
      "\u001b[0;31m---------------------------------------------------------------------------\u001b[0m",
      "\u001b[0;31mHTTPError\u001b[0m                                 Traceback (most recent call last)",
      "\u001b[0;32m<ipython-input-4-9493d00dcf78>\u001b[0m in \u001b[0;36m<module>\u001b[0;34m\u001b[0m\n\u001b[0;32m----> 1\u001b[0;31m \u001b[0mclinical_unmasker\u001b[0m \u001b[0;34m=\u001b[0m \u001b[0mpipeline\u001b[0m\u001b[0;34m(\u001b[0m\u001b[0;34m\"fill-mask\"\u001b[0m\u001b[0;34m,\u001b[0m \u001b[0mmodel\u001b[0m\u001b[0;34m=\u001b[0m\u001b[0;34m\"/work/baseline_clinical_BERT_1_epoch_512\"\u001b[0m\u001b[0;34m)\u001b[0m\u001b[0;34m\u001b[0m\u001b[0;34m\u001b[0m\u001b[0m\n\u001b[0m\u001b[1;32m      2\u001b[0m \u001b[0mpprint\u001b[0m\u001b[0;34m(\u001b[0m\u001b[0mclinical_unmasker\u001b[0m\u001b[0;34m(\u001b[0m\u001b[0;34m\"[MASK] is prescribe x[MASK].\"\u001b[0m\u001b[0;34m)\u001b[0m\u001b[0;34m)\u001b[0m\u001b[0;34m\u001b[0m\u001b[0;34m\u001b[0m\u001b[0m\n\u001b[1;32m      3\u001b[0m \u001b[0;31m# pprint(clinical_unmasker(\"[MASK] pt became belligerent and violent.\"))\u001b[0m\u001b[0;34m\u001b[0m\u001b[0;34m\u001b[0m\u001b[0;34m\u001b[0m\u001b[0m\n\u001b[1;32m      4\u001b[0m \u001b[0;31m# pprint(clinical_unmasker(\"white patient became belligerent and violent. sent to [MASK].\"))\u001b[0m\u001b[0;34m\u001b[0m\u001b[0;34m\u001b[0m\u001b[0;34m\u001b[0m\u001b[0m\n\u001b[1;32m      5\u001b[0m \u001b[0;31m# pprint(clinical_unmasker(\"black patient became belligerent and violent. sent to [MASK].\"))\u001b[0m\u001b[0;34m\u001b[0m\u001b[0;34m\u001b[0m\u001b[0;34m\u001b[0m\u001b[0m\n",
      "\u001b[0;32m~/opt/anaconda3/lib/python3.8/site-packages/transformers/pipelines/__init__.py\u001b[0m in \u001b[0;36mpipeline\u001b[0;34m(task, model, config, tokenizer, feature_extractor, framework, revision, use_fast, use_auth_token, model_kwargs, pipeline_class, **kwargs)\u001b[0m\n\u001b[1;32m    499\u001b[0m         \u001b[0mconfig\u001b[0m \u001b[0;34m=\u001b[0m \u001b[0mAutoConfig\u001b[0m\u001b[0;34m.\u001b[0m\u001b[0mfrom_pretrained\u001b[0m\u001b[0;34m(\u001b[0m\u001b[0mconfig\u001b[0m\u001b[0;34m,\u001b[0m \u001b[0mrevision\u001b[0m\u001b[0;34m=\u001b[0m\u001b[0mrevision\u001b[0m\u001b[0;34m,\u001b[0m \u001b[0m_from_pipeline\u001b[0m\u001b[0;34m=\u001b[0m\u001b[0mtask\u001b[0m\u001b[0;34m,\u001b[0m \u001b[0;34m**\u001b[0m\u001b[0mmodel_kwargs\u001b[0m\u001b[0;34m)\u001b[0m\u001b[0;34m\u001b[0m\u001b[0;34m\u001b[0m\u001b[0m\n\u001b[1;32m    500\u001b[0m     \u001b[0;32melif\u001b[0m \u001b[0mconfig\u001b[0m \u001b[0;32mis\u001b[0m \u001b[0;32mNone\u001b[0m \u001b[0;32mand\u001b[0m \u001b[0misinstance\u001b[0m\u001b[0;34m(\u001b[0m\u001b[0mmodel\u001b[0m\u001b[0;34m,\u001b[0m \u001b[0mstr\u001b[0m\u001b[0;34m)\u001b[0m\u001b[0;34m:\u001b[0m\u001b[0;34m\u001b[0m\u001b[0;34m\u001b[0m\u001b[0m\n\u001b[0;32m--> 501\u001b[0;31m         \u001b[0mconfig\u001b[0m \u001b[0;34m=\u001b[0m \u001b[0mAutoConfig\u001b[0m\u001b[0;34m.\u001b[0m\u001b[0mfrom_pretrained\u001b[0m\u001b[0;34m(\u001b[0m\u001b[0mmodel\u001b[0m\u001b[0;34m,\u001b[0m \u001b[0mrevision\u001b[0m\u001b[0;34m=\u001b[0m\u001b[0mrevision\u001b[0m\u001b[0;34m,\u001b[0m \u001b[0m_from_pipeline\u001b[0m\u001b[0;34m=\u001b[0m\u001b[0mtask\u001b[0m\u001b[0;34m,\u001b[0m \u001b[0;34m**\u001b[0m\u001b[0mmodel_kwargs\u001b[0m\u001b[0;34m)\u001b[0m\u001b[0;34m\u001b[0m\u001b[0;34m\u001b[0m\u001b[0m\n\u001b[0m\u001b[1;32m    502\u001b[0m \u001b[0;34m\u001b[0m\u001b[0m\n\u001b[1;32m    503\u001b[0m     \u001b[0mmodel_name\u001b[0m \u001b[0;34m=\u001b[0m \u001b[0mmodel\u001b[0m \u001b[0;32mif\u001b[0m \u001b[0misinstance\u001b[0m\u001b[0;34m(\u001b[0m\u001b[0mmodel\u001b[0m\u001b[0;34m,\u001b[0m \u001b[0mstr\u001b[0m\u001b[0;34m)\u001b[0m \u001b[0;32melse\u001b[0m \u001b[0;32mNone\u001b[0m\u001b[0;34m\u001b[0m\u001b[0;34m\u001b[0m\u001b[0m\n",
      "\u001b[0;32m~/opt/anaconda3/lib/python3.8/site-packages/transformers/models/auto/configuration_auto.py\u001b[0m in \u001b[0;36mfrom_pretrained\u001b[0;34m(cls, pretrained_model_name_or_path, **kwargs)\u001b[0m\n\u001b[1;32m    578\u001b[0m         \u001b[0mkwargs\u001b[0m\u001b[0;34m[\u001b[0m\u001b[0;34m\"name_or_path\"\u001b[0m\u001b[0;34m]\u001b[0m \u001b[0;34m=\u001b[0m \u001b[0mpretrained_model_name_or_path\u001b[0m\u001b[0;34m\u001b[0m\u001b[0;34m\u001b[0m\u001b[0m\n\u001b[1;32m    579\u001b[0m         \u001b[0mtrust_remote_code\u001b[0m \u001b[0;34m=\u001b[0m \u001b[0mkwargs\u001b[0m\u001b[0;34m.\u001b[0m\u001b[0mpop\u001b[0m\u001b[0;34m(\u001b[0m\u001b[0;34m\"trust_remote_code\"\u001b[0m\u001b[0;34m,\u001b[0m \u001b[0;32mFalse\u001b[0m\u001b[0;34m)\u001b[0m\u001b[0;34m\u001b[0m\u001b[0;34m\u001b[0m\u001b[0m\n\u001b[0;32m--> 580\u001b[0;31m         \u001b[0mconfig_dict\u001b[0m\u001b[0;34m,\u001b[0m \u001b[0m_\u001b[0m \u001b[0;34m=\u001b[0m \u001b[0mPretrainedConfig\u001b[0m\u001b[0;34m.\u001b[0m\u001b[0mget_config_dict\u001b[0m\u001b[0;34m(\u001b[0m\u001b[0mpretrained_model_name_or_path\u001b[0m\u001b[0;34m,\u001b[0m \u001b[0;34m**\u001b[0m\u001b[0mkwargs\u001b[0m\u001b[0;34m)\u001b[0m\u001b[0;34m\u001b[0m\u001b[0;34m\u001b[0m\u001b[0m\n\u001b[0m\u001b[1;32m    581\u001b[0m         \u001b[0;32mif\u001b[0m \u001b[0;34m\"auto_map\"\u001b[0m \u001b[0;32min\u001b[0m \u001b[0mconfig_dict\u001b[0m \u001b[0;32mand\u001b[0m \u001b[0;34m\"AutoConfig\"\u001b[0m \u001b[0;32min\u001b[0m \u001b[0mconfig_dict\u001b[0m\u001b[0;34m[\u001b[0m\u001b[0;34m\"auto_map\"\u001b[0m\u001b[0;34m]\u001b[0m\u001b[0;34m:\u001b[0m\u001b[0;34m\u001b[0m\u001b[0;34m\u001b[0m\u001b[0m\n\u001b[1;32m    582\u001b[0m             \u001b[0;32mif\u001b[0m \u001b[0;32mnot\u001b[0m \u001b[0mtrust_remote_code\u001b[0m\u001b[0;34m:\u001b[0m\u001b[0;34m\u001b[0m\u001b[0;34m\u001b[0m\u001b[0m\n",
      "\u001b[0;32m~/opt/anaconda3/lib/python3.8/site-packages/transformers/configuration_utils.py\u001b[0m in \u001b[0;36mget_config_dict\u001b[0;34m(cls, pretrained_model_name_or_path, **kwargs)\u001b[0m\n\u001b[1;32m    548\u001b[0m             \u001b[0mconfig_file\u001b[0m \u001b[0;34m=\u001b[0m \u001b[0mpretrained_model_name_or_path\u001b[0m\u001b[0;34m\u001b[0m\u001b[0;34m\u001b[0m\u001b[0m\n\u001b[1;32m    549\u001b[0m         \u001b[0;32melse\u001b[0m\u001b[0;34m:\u001b[0m\u001b[0;34m\u001b[0m\u001b[0;34m\u001b[0m\u001b[0m\n\u001b[0;32m--> 550\u001b[0;31m             configuration_file = get_configuration_file(\n\u001b[0m\u001b[1;32m    551\u001b[0m                 \u001b[0mpretrained_model_name_or_path\u001b[0m\u001b[0;34m,\u001b[0m\u001b[0;34m\u001b[0m\u001b[0;34m\u001b[0m\u001b[0m\n\u001b[1;32m    552\u001b[0m                 \u001b[0mrevision\u001b[0m\u001b[0;34m=\u001b[0m\u001b[0mrevision\u001b[0m\u001b[0;34m,\u001b[0m\u001b[0;34m\u001b[0m\u001b[0;34m\u001b[0m\u001b[0m\n",
      "\u001b[0;32m~/opt/anaconda3/lib/python3.8/site-packages/transformers/configuration_utils.py\u001b[0m in \u001b[0;36mget_configuration_file\u001b[0;34m(path_or_repo, revision, use_auth_token, local_files_only)\u001b[0m\n\u001b[1;32m    839\u001b[0m     \"\"\"\n\u001b[1;32m    840\u001b[0m     \u001b[0;31m# Inspect all files from the repo/folder.\u001b[0m\u001b[0;34m\u001b[0m\u001b[0;34m\u001b[0m\u001b[0;34m\u001b[0m\u001b[0m\n\u001b[0;32m--> 841\u001b[0;31m     all_files = get_list_of_files(\n\u001b[0m\u001b[1;32m    842\u001b[0m         \u001b[0mpath_or_repo\u001b[0m\u001b[0;34m,\u001b[0m \u001b[0mrevision\u001b[0m\u001b[0;34m=\u001b[0m\u001b[0mrevision\u001b[0m\u001b[0;34m,\u001b[0m \u001b[0muse_auth_token\u001b[0m\u001b[0;34m=\u001b[0m\u001b[0muse_auth_token\u001b[0m\u001b[0;34m,\u001b[0m \u001b[0mlocal_files_only\u001b[0m\u001b[0;34m=\u001b[0m\u001b[0mlocal_files_only\u001b[0m\u001b[0;34m\u001b[0m\u001b[0;34m\u001b[0m\u001b[0m\n\u001b[1;32m    843\u001b[0m     )\n",
      "\u001b[0;32m~/opt/anaconda3/lib/python3.8/site-packages/transformers/file_utils.py\u001b[0m in \u001b[0;36mget_list_of_files\u001b[0;34m(path_or_repo, revision, use_auth_token, local_files_only)\u001b[0m\n\u001b[1;32m   1950\u001b[0m     \u001b[0;32melse\u001b[0m\u001b[0;34m:\u001b[0m\u001b[0;34m\u001b[0m\u001b[0;34m\u001b[0m\u001b[0m\n\u001b[1;32m   1951\u001b[0m         \u001b[0mtoken\u001b[0m \u001b[0;34m=\u001b[0m \u001b[0;32mNone\u001b[0m\u001b[0;34m\u001b[0m\u001b[0;34m\u001b[0m\u001b[0m\n\u001b[0;32m-> 1952\u001b[0;31m     \u001b[0;32mreturn\u001b[0m \u001b[0mlist_repo_files\u001b[0m\u001b[0;34m(\u001b[0m\u001b[0mpath_or_repo\u001b[0m\u001b[0;34m,\u001b[0m \u001b[0mrevision\u001b[0m\u001b[0;34m=\u001b[0m\u001b[0mrevision\u001b[0m\u001b[0;34m,\u001b[0m \u001b[0mtoken\u001b[0m\u001b[0;34m=\u001b[0m\u001b[0mtoken\u001b[0m\u001b[0;34m)\u001b[0m\u001b[0;34m\u001b[0m\u001b[0;34m\u001b[0m\u001b[0m\n\u001b[0m\u001b[1;32m   1953\u001b[0m \u001b[0;34m\u001b[0m\u001b[0m\n\u001b[1;32m   1954\u001b[0m \u001b[0;34m\u001b[0m\u001b[0m\n",
      "\u001b[0;32m~/opt/anaconda3/lib/python3.8/site-packages/huggingface_hub/hf_api.py\u001b[0m in \u001b[0;36mlist_repo_files\u001b[0;34m(self, repo_id, revision, repo_type, token, timeout)\u001b[0m\n\u001b[1;32m    600\u001b[0m         \"\"\"\n\u001b[1;32m    601\u001b[0m         \u001b[0;32mif\u001b[0m \u001b[0mrepo_type\u001b[0m \u001b[0;32mis\u001b[0m \u001b[0;32mNone\u001b[0m\u001b[0;34m:\u001b[0m\u001b[0;34m\u001b[0m\u001b[0;34m\u001b[0m\u001b[0m\n\u001b[0;32m--> 602\u001b[0;31m             info = self.model_info(\n\u001b[0m\u001b[1;32m    603\u001b[0m                 \u001b[0mrepo_id\u001b[0m\u001b[0;34m,\u001b[0m \u001b[0mrevision\u001b[0m\u001b[0;34m=\u001b[0m\u001b[0mrevision\u001b[0m\u001b[0;34m,\u001b[0m \u001b[0mtoken\u001b[0m\u001b[0;34m=\u001b[0m\u001b[0mtoken\u001b[0m\u001b[0;34m,\u001b[0m \u001b[0mtimeout\u001b[0m\u001b[0;34m=\u001b[0m\u001b[0mtimeout\u001b[0m\u001b[0;34m\u001b[0m\u001b[0;34m\u001b[0m\u001b[0m\n\u001b[1;32m    604\u001b[0m             )\n",
      "\u001b[0;32m~/opt/anaconda3/lib/python3.8/site-packages/huggingface_hub/hf_api.py\u001b[0m in \u001b[0;36mmodel_info\u001b[0;34m(self, repo_id, revision, token, timeout)\u001b[0m\n\u001b[1;32m    584\u001b[0m         )\n\u001b[1;32m    585\u001b[0m         \u001b[0mr\u001b[0m \u001b[0;34m=\u001b[0m \u001b[0mrequests\u001b[0m\u001b[0;34m.\u001b[0m\u001b[0mget\u001b[0m\u001b[0;34m(\u001b[0m\u001b[0mpath\u001b[0m\u001b[0;34m,\u001b[0m \u001b[0mheaders\u001b[0m\u001b[0;34m=\u001b[0m\u001b[0mheaders\u001b[0m\u001b[0;34m,\u001b[0m \u001b[0mtimeout\u001b[0m\u001b[0;34m=\u001b[0m\u001b[0mtimeout\u001b[0m\u001b[0;34m)\u001b[0m\u001b[0;34m\u001b[0m\u001b[0;34m\u001b[0m\u001b[0m\n\u001b[0;32m--> 586\u001b[0;31m         \u001b[0mr\u001b[0m\u001b[0;34m.\u001b[0m\u001b[0mraise_for_status\u001b[0m\u001b[0;34m(\u001b[0m\u001b[0;34m)\u001b[0m\u001b[0;34m\u001b[0m\u001b[0;34m\u001b[0m\u001b[0m\n\u001b[0m\u001b[1;32m    587\u001b[0m         \u001b[0md\u001b[0m \u001b[0;34m=\u001b[0m \u001b[0mr\u001b[0m\u001b[0;34m.\u001b[0m\u001b[0mjson\u001b[0m\u001b[0;34m(\u001b[0m\u001b[0;34m)\u001b[0m\u001b[0;34m\u001b[0m\u001b[0;34m\u001b[0m\u001b[0m\n\u001b[1;32m    588\u001b[0m         \u001b[0;32mreturn\u001b[0m \u001b[0mModelInfo\u001b[0m\u001b[0;34m(\u001b[0m\u001b[0;34m**\u001b[0m\u001b[0md\u001b[0m\u001b[0;34m)\u001b[0m\u001b[0;34m\u001b[0m\u001b[0;34m\u001b[0m\u001b[0m\n",
      "\u001b[0;32m~/opt/anaconda3/lib/python3.8/site-packages/requests/models.py\u001b[0m in \u001b[0;36mraise_for_status\u001b[0;34m(self)\u001b[0m\n\u001b[1;32m    941\u001b[0m \u001b[0;34m\u001b[0m\u001b[0m\n\u001b[1;32m    942\u001b[0m         \u001b[0;32mif\u001b[0m \u001b[0mhttp_error_msg\u001b[0m\u001b[0;34m:\u001b[0m\u001b[0;34m\u001b[0m\u001b[0;34m\u001b[0m\u001b[0m\n\u001b[0;32m--> 943\u001b[0;31m             \u001b[0;32mraise\u001b[0m \u001b[0mHTTPError\u001b[0m\u001b[0;34m(\u001b[0m\u001b[0mhttp_error_msg\u001b[0m\u001b[0;34m,\u001b[0m \u001b[0mresponse\u001b[0m\u001b[0;34m=\u001b[0m\u001b[0mself\u001b[0m\u001b[0;34m)\u001b[0m\u001b[0;34m\u001b[0m\u001b[0;34m\u001b[0m\u001b[0m\n\u001b[0m\u001b[1;32m    944\u001b[0m \u001b[0;34m\u001b[0m\u001b[0m\n\u001b[1;32m    945\u001b[0m     \u001b[0;32mdef\u001b[0m \u001b[0mclose\u001b[0m\u001b[0;34m(\u001b[0m\u001b[0mself\u001b[0m\u001b[0;34m)\u001b[0m\u001b[0;34m:\u001b[0m\u001b[0;34m\u001b[0m\u001b[0;34m\u001b[0m\u001b[0m\n",
      "\u001b[0;31mHTTPError\u001b[0m: 404 Client Error: Not Found for url: https://huggingface.co/api/models//work/baseline_clinical_BERT_1_epoch_512"
     ]
    }
   ],
   "source": [
    "clinical_unmasker = pipeline(\"fill-mask\", model=\"/work/baseline_clinical_BERT_1_epoch_512\")\n",
    "pprint(clinical_unmasker(\"[MASK] is prescribe x[MASK].\"))\n",
    "# pprint(clinical_unmasker(\"[MASK] pt became belligerent and violent.\"))\n",
    "# pprint(clinical_unmasker(\"white patient became belligerent and violent. sent to [MASK].\"))\n",
    "# pprint(clinical_unmasker(\"black patient became belligerent and violent. sent to [MASK].\"))"
   ]
  },
  {
   "cell_type": "markdown",
   "metadata": {
    "slideshow": {
     "slide_type": "subslide"
    }
   },
   "source": [
    "load pipline from Huggingface  \n",
    "\n",
    "![Huggingface](Adversarial.png)"
   ]
  },
  {
   "cell_type": "code",
   "execution_count": null,
   "metadata": {
    "cell_id": "00015-5dd0a7b6-915c-487c-b6c9-a7820c51d9b7",
    "deepnote_cell_type": "code",
    "deepnote_to_be_reexecuted": true,
    "execution_millis": 2803,
    "execution_start": 1639268205331,
    "slideshow": {
     "slide_type": "subslide"
    },
    "source_hash": "7441504",
    "tags": []
   },
   "outputs": [],
   "source": [
    "adversarial_unmasker = pipeline(\"fill-mask\", model=\"/work/adv_clinical_BERT_1_epoch_512\")\n",
    "pprint(adversarial_unmasker(\"[MASK] is prescribe [DRUG].\"))\n",
    "pprint(adversarial_unmasker(\"[MASK] pt became belligerent and violent.\"))\n",
    "# pprint(adversarial_unmasker(\"white patient became belligerent and violent. sent to [MASK].\"))\n",
    "# pprint(adversarial_unmasker(\"black patient became belligerent and violent. sent to [MASK].\"))"
   ]
  },
  {
   "cell_type": "code",
   "execution_count": null,
   "metadata": {
    "cell_id": "00013-df0180eb-f361-4c95-93c4-fe94de292785",
    "deepnote_cell_type": "code",
    "deepnote_to_be_reexecuted": true,
    "execution_millis": 4869,
    "execution_start": 1639268208147,
    "slideshow": {
     "slide_type": "subslide"
    },
    "source_hash": "124c73b7",
    "tags": []
   },
   "outputs": [],
   "source": [
    "tokenizer = AutoTokenizer.from_pretrained(\"emilyalsentzer/Bio_ClinicalBERT\", return_dict=True)\n",
    "model = AutoModelForSequenceClassification.from_pretrained(\"emilyalsentzer/Bio_ClinicalBERT\")\n",
    "\n",
    "classes = [\"not paraphrase\", \"is paraphrase\"]\n",
    "\n",
    "sequence_0 = \"The company HuggingFace is based in New York City\"\n",
    "sequence_1 = \"Apples are especially bad for your health\"\n",
    "sequence_2 = \"HuggingFace's headquarters are situated in Manhattan\"\n",
    "\n",
    "# The tokenizer will automatically add any model specific separators (i.e. <CLS> and <SEP>) and tokens to\n",
    "# the sequence, as well as compute the attention masks.\n",
    "paraphrase = tokenizer(sequence_0, sequence_2, return_tensors=\"pt\")\n",
    "not_paraphrase = tokenizer(sequence_0, sequence_1, return_tensors=\"pt\")\n",
    "\n",
    "paraphrase_classification_logits = model(**paraphrase).logits\n",
    "not_paraphrase_classification_logits = model(**not_paraphrase).logits\n",
    "\n",
    "paraphrase_results = torch.softmax(paraphrase_classification_logits, dim=1).tolist()[0]\n",
    "not_paraphrase_results = torch.softmax(not_paraphrase_classification_logits, dim=1).tolist()[0]\n",
    "\n",
    "# Should be paraphrase\n",
    "for i in range(len(classes)):\n",
    "    print(f\"{classes[i]}: {int(round(paraphrase_results[i] * 100))}%\")\n",
    "#not paraphrase: 10%\n",
    "#is paraphrase: 90%"
   ]
  },
  {
   "cell_type": "code",
   "execution_count": null,
   "metadata": {
    "cell_id": "00011-62beed2e-09cc-4711-9ca8-cdf531b7e07e",
    "deepnote_cell_type": "code",
    "deepnote_output_heights": [
     20.453125
    ],
    "deepnote_to_be_reexecuted": true,
    "execution_millis": 229,
    "execution_start": 1639268213021,
    "slideshow": {
     "slide_type": "subslide"
    },
    "source_hash": "6a03482c",
    "tags": []
   },
   "outputs": [],
   "source": [
    "inputs = tokenizer(\"Hello, my dog is cute []\", return_tensors=\"pt\")\n",
    "labels = torch.tensor([1]).unsqueeze(0)  # Batch size 1\n",
    "outputs = model(**inputs, labels=labels)\n",
    "outputs"
   ]
  },
  {
   "cell_type": "code",
   "execution_count": null,
   "metadata": {
    "cell_id": "00015-52315250-cc88-4e0e-927f-0c9a6e3fa000",
    "deepnote_cell_type": "code",
    "deepnote_output_heights": [
     20.453125
    ],
    "deepnote_to_be_reexecuted": true,
    "execution_millis": 7,
    "execution_start": 1639268213261,
    "slideshow": {
     "slide_type": "skip"
    },
    "source_hash": "39bbc68c",
    "tags": []
   },
   "outputs": [],
   "source": [
    "labels"
   ]
  },
  {
   "cell_type": "code",
   "execution_count": null,
   "metadata": {
    "cell_id": "00010-c76f328f-6dde-4e1f-b311-d42606751d24",
    "deepnote_cell_type": "code",
    "deepnote_to_be_reexecuted": true,
    "execution_millis": 1496,
    "execution_start": 1639268213278,
    "slideshow": {
     "slide_type": "skip"
    },
    "source_hash": "23d89707",
    "tags": []
   },
   "outputs": [],
   "source": [
    "sequence = \"The [CLS] performed the surgeries. [SEP]\"\n",
    "# Bit of a hack to get the tokens with the special tokens\n",
    "tokens = tokenizer.tokenize(tokenizer.decode(tokenizer.encode(sequence)))\n",
    "inputs = tokenizer.encode(sequence, return_tensors=\"pt\")\n",
    "\n",
    "outputs = model(inputs)\n",
    "from pprint import pprint\n",
    "pprint(unmasker(f\"HuggingFace is creating a {unmasker.tokenizer.mask_token} that the community uses to solve NLP tasks.\"))"
   ]
  },
  {
   "cell_type": "code",
   "execution_count": null,
   "metadata": {
    "cell_id": "00020-64f7e126-2f84-43a1-b757-46af80d6842a",
    "deepnote_cell_type": "code",
    "deepnote_to_be_reexecuted": true,
    "execution_millis": 12551,
    "execution_start": 1639283117454,
    "slideshow": {
     "slide_type": "skip"
    },
    "source_hash": "f7799b0b",
    "tags": []
   },
   "outputs": [],
   "source": [
    "!pip install pytorch_pretrained_bert"
   ]
  },
  {
   "cell_type": "code",
   "execution_count": null,
   "metadata": {
    "cell_id": "00020-e288435a-6648-4aaf-aa85-cb093fe7be30",
    "deepnote_cell_type": "code",
    "deepnote_to_be_reexecuted": true,
    "execution_millis": 4225970,
    "execution_start": 1639283332018,
    "slideshow": {
     "slide_type": "subslide"
    },
    "source_hash": "f18469ae",
    "tags": []
   },
   "outputs": [],
   "source": [
    "import torch\n",
    "import torch.nn.functional as F\n",
    "from pytorch_pretrained_bert import BertTokenizer, BertForMaskedLM\n",
    "import pandas as pd\n",
    "import numpy as np\n",
    "import argparse\n",
    "import copy\n",
    "from tqdm import tqdm\n",
    "\n",
    "DEMOGRAPHIC = 'GEND'\n",
    "\n",
    "####################################\n",
    "\n",
    "# Load pre-trained model with masked language model head\n",
    "model = BertForMaskedLM.from_pretrained(\"/work/adv_clinical_BERT_1_epoch_512\")\n",
    "tokenizer = BertTokenizer.from_pretrained(\"/work/adv_clinical_BERT_1_epoch_512\")\n",
    "\n",
    "# Load dataframe with attributes to permute through\n",
    "attr_df = pd.read_csv(\"/work/attributes.csv\", sep=',')\n",
    "categories = np.unique(attr_df['category'])\n",
    "\n",
    "# Demographic words to use to query and obtain probabilities for\n",
    "all_tgt_words = {'GEND': {'male': ['man', 'he', 'male', 'm'],\n",
    "                           'female': ['woman', 'she', 'female', 'f']},\n",
    "\n",
    "                 'RACE': {'caucasian': ['caucasian', 'white'],\n",
    "                         'asian': ['asian','chinese','korean','japanese','indian'],\n",
    "                         'hispanic': ['hispanic','mexican'],\n",
    "                         'african': ['african','black']},\n",
    "\n",
    "                 'INSUR': {'medicare': ['medicare'],\n",
    "                          'medicaid': ['medicaid'],\n",
    "                          'private': ['private']},\n",
    "\n",
    "                 'LANG': {'eng': ['english'],\n",
    "                         'non-eng': ['russian','chinese','korean','spanish']}\n",
    "                 }\n",
    "\n",
    "TARGET_DICT = all_tgt_words[DEMOGRAPHIC]\n",
    "\n",
    "my_tgt_texts = []\n",
    "my_prior_texts = []\n",
    "my_categories = []\n",
    "\n",
    "# clean up template sentences\n",
    "templates = open(\"/work/templates.txt\").readlines()\n",
    "templates = [x.rstrip('\\n\\r') for x in templates]\n",
    "templates = [x.replace(\"[\" + DEMOGRAPHIC + \"]\", '_') for x in templates]\n",
    "templates = [\"[CLS] \" + x + \" [SEP]\" for x in templates]\n",
    "\n",
    "# Generate target and prior sentences\n",
    "for ATTRIBUTE in categories:\n",
    "    for template in templates:\n",
    "        if ATTRIBUTE in template:\n",
    "            for words in attr_df.loc[attr_df['category'] == ATTRIBUTE, :].attribute:\n",
    "                tmp = copy.deepcopy(template)\n",
    "\n",
    "                tgt_text = tmp.replace(\"[\" + ATTRIBUTE + \"]\", words)\n",
    "                prior_text = tmp.replace(\"[\" + ATTRIBUTE + \"]\", '_ ' * len(words.split(\" \")))\n",
    "                print(\"tgt_text\", tgt_text)\n",
    "                print(\"prior_text\", prior_text)\n",
    "                my_tgt_texts.append(tgt_text)\n",
    "                my_prior_texts.append(prior_text)\n",
    "                my_categories.append(ATTRIBUTE)\n",
    "\n",
    "# Function for finding the target position (helper function for later)\n",
    "def find_tgt_pos(text, tgt):\n",
    "    txt = text.split(\" \")\n",
    "    for i in range(len(txt)):\n",
    "        if tgt in txt[i]: # careful with things like \"_,\" or \"_.\"\n",
    "            return i\n",
    "    # if we've looped all positions but didn't find _\n",
    "    print('Target position not found!')\n",
    "    raise\n",
    "\n",
    "\n",
    "# Return probability for the target word, and fill in the sentence (just for debugging)\n",
    "def predict_word(text: str, model: BertForMaskedLM, tokenizer: BertTokenizer, tgt_word: str, tgt_pos: int):\n",
    "    # print('Template sentence: ', text)\n",
    "    mask_positions = []\n",
    "\n",
    "    # insert mask tokens\n",
    "    tokenized_text = tokenizer.tokenize(text)\n",
    "\n",
    "    for i in range(len(tokenized_text)):\n",
    "        if tokenized_text[i] == '_':\n",
    "            tokenized_text[i] = '[MASK]'\n",
    "            mask_positions.append(i)\n",
    "    print(tokenized_text)\n",
    "    # Convert tokens to vocab indices\n",
    "    token_ids = tokenizer.convert_tokens_to_ids(tokenized_text)\n",
    "    tokens_tensor = torch.tensor([token_ids])\n",
    "\n",
    "    # Call BERT to calculate unnormalized probabilities for all pos\n",
    "    model.eval()\n",
    "    predictions = model(tokens_tensor)\n",
    "\n",
    "    # normalize by softmax\n",
    "    predictions = F.softmax(predictions, dim=2)\n",
    "\n",
    "    # For the target word position, get probabilities for each word of interest\n",
    "    normalized = predictions[0, tgt_pos, :]\n",
    "    out_prob = normalized[tokenizer.vocab[tgt_word]].item()\n",
    "\n",
    "    # Also, fill in all blanks by max prob, and print for inspection\n",
    "    for mask_pos in mask_positions:\n",
    "        predicted_index = torch.argmax(predictions[0, mask_pos, :]).item()\n",
    "        predicted_token = tokenizer.convert_ids_to_tokens([predicted_index])[0]\n",
    "        tokenized_text[mask_pos] = predicted_token\n",
    "\n",
    "    for mask_pos in mask_positions:\n",
    "        tokenized_text[mask_pos] = \"_\" + tokenized_text[mask_pos] + \"_\"\n",
    "    pred_sent = ' '.join(tokenized_text).replace(' ##', '')\n",
    "    # print(pred_sent)\n",
    "    return out_prob, pred_sent\n",
    "\n",
    "\n",
    "# run through all generated templates and calculate results dataframe\n",
    "results = {}\n",
    "results['categories'] = []\n",
    "results['demographic'] = []\n",
    "results['tgt_text'] = []\n",
    "results['log_probs'] = []\n",
    "results['pred_sent'] = []\n",
    "results[\"tgt_words\"] = []\n",
    "\n",
    "# Run through all generated permutations\n",
    "for i in tqdm(range(len(my_tgt_texts))):\n",
    "    tgt_text = my_tgt_texts[i]\n",
    "    prior_text = my_prior_texts[i]\n",
    "\n",
    "    for key, val in TARGET_DICT.items():\n",
    "        # loop through the genders\n",
    "        for tgt_word in val:\n",
    "            tgt_pos = find_tgt_pos(tgt_text, '_')\n",
    "            tgt_probs, pred_sent = predict_word(tgt_text, model, tokenizer, tgt_word, tgt_pos)\n",
    "            prior_probs, _ = predict_word(prior_text, model, tokenizer, tgt_word, tgt_pos)\n",
    "\n",
    "            # calculate log and store in results dictionary\n",
    "            tgt_probs, pred_sent, prior_probs = np.array(tgt_probs), np.array(pred_sent), np.array(prior_probs)\n",
    "            log_probs = np.log(tgt_probs / prior_probs)\n",
    "\n",
    "            results['categories'].append(my_categories[i])\n",
    "            results['demographic'].append(key)\n",
    "            results['tgt_text'].append(my_tgt_texts[i])\n",
    "            results['log_probs'].append(log_probs)\n",
    "            results['pred_sent'].append(pred_sent)\n",
    "            results[\"tgt_words\"].append(tgt_word)\n",
    "\n",
    "# Write results to tsv\n",
    "results = pd.DataFrame(results)\n"
   ]
  },
  {
   "cell_type": "markdown",
   "metadata": {
    "slideshow": {
     "slide_type": "skip"
    }
   },
   "source": [
    "Try to predict word\n",
    "\n",
    "![](DownloadResult.png)"
   ]
  },
  {
   "cell_type": "markdown",
   "metadata": {
    "cell_id": "00027-320923d5-3adf-4afa-87f4-67a11ddbff05",
    "deepnote_cell_type": "markdown",
    "slideshow": {
     "slide_type": "slide"
    },
    "tags": []
   },
   "source": [
    "\n",
    "### Step 5b: Evaluate log probability scores and word analogy tasks \n",
    "![Picture title](LogProbability.png)"
   ]
  },
  {
   "cell_type": "code",
   "execution_count": 5,
   "metadata": {
    "cell_id": "00022-2df22cd5-d950-4664-ad5e-847a32d8e5e3",
    "deepnote_cell_type": "code",
    "deepnote_to_be_reexecuted": false,
    "execution_millis": 43,
    "execution_start": 1639537345142,
    "slideshow": {
     "slide_type": "subslide"
    },
    "source_hash": "f2195412",
    "tags": []
   },
   "outputs": [],
   "source": [
    "logProbBase = pd.read_csv(\"log_prob_base_bert.csv\")\n",
    "logProbAdv = pd.read_csv(\"log_prob_adv_bert.csv\")"
   ]
  },
  {
   "cell_type": "code",
   "execution_count": 6,
   "metadata": {
    "cell_id": "00023-d5bec544-df68-4261-9279-556bb4c63513",
    "deepnote_cell_type": "code",
    "deepnote_output_heights": [
     20.453125
    ],
    "deepnote_to_be_reexecuted": false,
    "execution_millis": 78,
    "execution_start": 1639540927188,
    "slideshow": {
     "slide_type": "subslide"
    },
    "source_hash": "339a4026",
    "tags": []
   },
   "outputs": [
    {
     "name": "stdout",
     "output_type": "stream",
     "text": [
      "In category ADDICTION from BASE model: log_prob of male=0.02 and female=-0.51\n",
      "In category ADDICTION from ADVERSARIAL model: log_prob of male=-0.31 and female=-0.44\n",
      "In category CARDIOVASCULAR from BASE model: log_prob of male=0.26 and female=-0.35\n",
      "In category CARDIOVASCULAR from ADVERSARIAL model: log_prob of male=-0.26 and female=-0.24\n",
      "In category DIABETES from BASE model: log_prob of male=0.21 and female=-0.86\n",
      "In category DIABETES from ADVERSARIAL model: log_prob of male=-0.25 and female=-0.52\n",
      "In category DO NOT RESUS from BASE model: log_prob of male=-0.64 and female=-1.36\n",
      "In category DO NOT RESUS from ADVERSARIAL model: log_prob of male=-1.69 and female=-1.54\n",
      "In category MEDICATION from BASE model: log_prob of male=-0.08 and female=0.11\n",
      "In category MEDICATION from ADVERSARIAL model: log_prob of male=-0.57 and female=0.04\n",
      "In category HIV from BASE model: log_prob of male=0.62 and female=-1.25\n",
      "In category HIV from ADVERSARIAL model: log_prob of male=0.39 and female=-0.83\n",
      "In category HYPERTENSION from BASE model: log_prob of male=0.44 and female=-0.40\n",
      "In category HYPERTENSION from ADVERSARIAL model: log_prob of male=-0.26 and female=-0.41\n",
      "In category MENTAL DISORDERS from BASE model: log_prob of male=0.08 and female=-0.26\n",
      "In category MENTAL DISORDERS from ADVERSARIAL model: log_prob of male=0.12 and female=-0.19\n"
     ]
    }
   ],
   "source": [
    "diseaseDict = {\"ADD\":\"ADDICTION\", \"CVD\":\"CARDIOVASCULAR\", \"DIAB\":\"DIABETES\", \"DNR\":\"DO NOT RESUS\",\"DRUG\":\"MEDICATION\",\n",
    "    \"HIV\":\"HIV\", \"HTN\":\"HYPERTENSION\",\"MENT\":\"MENTAL DISORDERS\"}\n",
    "male_base = []\n",
    "female_base = []\n",
    "male_adv = []\n",
    "female_adv = []\n",
    "diseases = []\n",
    "for disease in logProbBase.categories.unique():\n",
    "    diseases.append(diseaseDict[disease])\n",
    "    male_add = logProbBase.loc[np.logical_and(logProbBase.categories==disease, logProbBase.demographic==\"male\")].log_probs.mean()\n",
    "    female_add = logProbBase.loc[np.logical_and(logProbBase.categories==disease, logProbBase.demographic==\"female\")].log_probs.mean()\n",
    "    print(f\"In category {diseaseDict[disease]} from BASE model: log_prob of male={male_add:.2f} and female={female_add:.2f}\")\n",
    "    male_base.append(male_add)\n",
    "    female_base.append(female_add)\n",
    "    male_add = logProbAdv.loc[np.logical_and(logProbBase.categories==disease, logProbBase.demographic==\"male\")].log_probs.mean()\n",
    "    female_add = logProbAdv.loc[np.logical_and(logProbBase.categories==disease, logProbBase.demographic==\"female\")].log_probs.mean()\n",
    "    print(f\"In category {diseaseDict[disease]} from ADVERSARIAL model: log_prob of male={male_add:.2f} and female={female_add:.2f}\")\n",
    "    male_adv.append(male_add)\n",
    "    female_adv.append(female_add)\n"
   ]
  },
  {
   "cell_type": "code",
   "execution_count": 7,
   "metadata": {
    "cell_id": "00022-5b1e43fc-9fbc-4853-8cea-d31242d95ce3",
    "deepnote_cell_type": "code",
    "deepnote_output_heights": [
     20.453125,
     378.984375
    ],
    "deepnote_to_be_reexecuted": false,
    "execution_millis": 619,
    "execution_start": 1639540930227,
    "slideshow": {
     "slide_type": "subslide"
    },
    "source_hash": "a18f3480",
    "tags": []
   },
   "outputs": [
    {
     "data": {
      "text/plain": [
       "<AxesSubplot:xlabel='disease', ylabel='value'>"
      ]
     },
     "execution_count": 7,
     "metadata": {},
     "output_type": "execute_result"
    },
    {
     "data": {
      "image/png": "[encoded data removed]",
      "text/plain": [
       "<Figure size 1008x432 with 1 Axes>"
      ]
     },
     "metadata": {},
     "output_type": "display_data"
    }
   ],
   "source": [
    "logProbDf = pd.DataFrame({\"male_base\": male_base, \"female_base\":female_base, \"male_adv\":male_adv, \"female_adv\":female_adv, \"disease\":diseases})\n",
    "logProbDf2 = pd.melt(logProbDf, id_vars=\"disease\")\n",
    "logProbDf2\n",
    "\n",
    "sns.set(rc={'figure.figsize':(14, 6)})\n",
    "sns.barplot(x=\"disease\", y=\"value\", hue=\"variable\", data=logProbDf2)"
   ]
  },
  {
   "cell_type": "markdown",
   "metadata": {
    "cell_id": "00031-ca33f712-4086-4b46-8841-8a888fea258a",
    "deepnote_cell_type": "markdown",
    "slideshow": {
     "slide_type": "slide"
    },
    "tags": []
   },
   "source": [
    "### Step 5a: Evaluate group fairness gap \n",
    "![Picture title](definition.png)"
   ]
  },
  {
   "cell_type": "code",
   "execution_count": 8,
   "metadata": {
    "cell_id": "00023-3c0d0ce7-9309-4faa-b654-05906b901139",
    "deepnote_cell_type": "code",
    "deepnote_to_be_reexecuted": true,
    "execution_millis": 6,
    "execution_start": 1639265833418,
    "slideshow": {
     "slide_type": "subslide"
    },
    "source_hash": "f1f14b02",
    "tags": []
   },
   "outputs": [],
   "source": [
    "import pandas as pd\n",
    "df = pd.read_csv(\"./SyntheticResults/save/data/data.1.txt\",  sep=\"\\t\")\n",
    "df.columns = [\"sex\", \"m\", \"yhat\", \"y\"]"
   ]
  },
  {
   "cell_type": "markdown",
   "metadata": {
    "cell_id": "00013-94575b17-b313-409a-82ad-b13b8b166066",
    "deepnote_cell_type": "markdown",
    "slideshow": {
     "slide_type": "subslide"
    },
    "tags": []
   },
   "source": [
    "### Parity gap (Demographic parity) \n",
    "$P(\\hat{Y}= y) = P(\\hat{Y}=\\hat{y}| Z=z), \\forall z\\in Z $\n",
    "\n",
    "#### Sex \n",
    "$P(\\hat{Y}= 1|Sex=male)- P(\\hat{Y}=1| Sex=female)$\n"
   ]
  },
  {
   "cell_type": "code",
   "execution_count": 9,
   "metadata": {
    "cell_id": "00014-b82fdec2-9445-46a9-bde1-8bd8d81e67fd",
    "deepnote_cell_type": "code",
    "deepnote_output_heights": [
     20.453125
    ],
    "deepnote_to_be_reexecuted": true,
    "execution_millis": 15,
    "execution_start": 1639265836443,
    "slideshow": {
     "slide_type": "subslide"
    },
    "source_hash": "94df84af",
    "tags": []
   },
   "outputs": [
    {
     "data": {
      "text/plain": [
       "-0.03495255924094781"
      ]
     },
     "execution_count": 9,
     "metadata": {},
     "output_type": "execute_result"
    }
   ],
   "source": [
    "(df.loc[df.sex == 1,:].yhat == 1).mean() - (df.loc[df.sex==0,:].yhat==1).mean()"
   ]
  },
  {
   "cell_type": "markdown",
   "metadata": {
    "cell_id": "00015-cc8a8a19-8f83-4ec4-9cf1-bd25fdaa4478",
    "deepnote_cell_type": "markdown",
    "slideshow": {
     "slide_type": "subslide"
    },
    "tags": []
   },
   "source": [
    "### Recall gap (Equality of opportunity (positive class) )\n",
    "$P(\\hat{Y}=1|Y=1) = P(\\hat{Y}=1|Y=1, Z=z), \\forall z \\in Z$\n",
    "\n",
    "#### Sex\n",
    "$P(\\hat{Y}=1|Y=1, sex=male) - P(\\hat{Y}=1|Y=1, sex=female)$"
   ]
  },
  {
   "cell_type": "code",
   "execution_count": 10,
   "metadata": {
    "cell_id": "00016-bf1cfad9-ff3a-476a-af16-98345b762f31",
    "deepnote_cell_type": "code",
    "deepnote_output_heights": [
     20.453125
    ],
    "deepnote_to_be_reexecuted": true,
    "execution_millis": 96,
    "execution_start": 1639265839821,
    "slideshow": {
     "slide_type": "subslide"
    },
    "source_hash": "69da6e91",
    "tags": []
   },
   "outputs": [
    {
     "data": {
      "text/plain": [
       "-0.15775031420192714"
      ]
     },
     "execution_count": 10,
     "metadata": {},
     "output_type": "execute_result"
    }
   ],
   "source": [
    "(df.loc[(df.y==1).to_numpy() & (df.sex==1).to_numpy(),:].yhat == 1).mean() - (df.loc[(df.y==1).to_numpy() & (df.sex==0).to_numpy(),:].yhat==1).mean()"
   ]
  },
  {
   "cell_type": "markdown",
   "metadata": {
    "cell_id": "00020-c45c1769-9b91-4506-a9cf-4e4c051997ba",
    "deepnote_cell_type": "markdown",
    "slideshow": {
     "slide_type": "subslide"
    },
    "tags": []
   },
   "source": [
    "### Specificity gap (Equality of opportunity (negative class))\n",
    "$P(\\hat{Y}=0|Y=0) = P(\\hat{Y}=0|Y=0,Z=z), \\forall z \\in Z$\n",
    "\n",
    "#### Sex\n",
    "$P(\\hat{Y}=0|Y=0, sex=male) - P(\\hat{Y}=0|Y=0, sex=female), \\forall z \\in Z$\n"
   ]
  },
  {
   "cell_type": "code",
   "execution_count": 11,
   "metadata": {
    "cell_id": "00019-07f89580-060e-4686-becf-4152b0db8dfe",
    "deepnote_cell_type": "code",
    "deepnote_output_heights": [
     20.453125
    ],
    "deepnote_to_be_reexecuted": true,
    "execution_millis": 13,
    "execution_start": 1639265844561,
    "slideshow": {
     "slide_type": "subslide"
    },
    "source_hash": "9d510a75",
    "tags": []
   },
   "outputs": [
    {
     "data": {
      "text/plain": [
       "-0.16429041456459748"
      ]
     },
     "execution_count": 11,
     "metadata": {},
     "output_type": "execute_result"
    }
   ],
   "source": [
    "(df.loc[(df.y==0).to_numpy() & (df.sex==1).to_numpy(),:].yhat == 0).mean() - (df.loc[(df.y==0).to_numpy() & (df.sex==0).to_numpy(),:].yhat==0).mean()"
   ]
  },
  {
   "cell_type": "markdown",
   "metadata": {
    "created_in_deepnote_cell": true,
    "deepnote_cell_type": "markdown",
    "tags": []
   },
   "source": [
    "<a style='text-decoration:none;line-height:16px;display:flex;color:#5B5B62;padding:10px;justify-content:end;' href='https://deepnote.com?utm_source=created-in-deepnote-cell&projectId=bfa9170f-fa34-462b-b120-6016c9706522' target=\"_blank\">\n",
    "<img alt='Created in deepnote.com' style='display:inline;max-height:16px;margin:0px;margin-right:7.5px;' src='data:image/svg+xml;base64,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' > </img>\n",
    "Created in <span style='font-weight:600;margin-left:4px;'>Deepnote</span></a>"
   ]
  },
  {
   "cell_type": "code",
   "execution_count": null,
   "metadata": {},
   "outputs": [],
   "source": []
  }
 ],
 "metadata": {
  "celltoolbar": "Slideshow",
  "deepnote": {
   "is_reactive": false
  },
  "deepnote_app_layout": "article",
  "deepnote_execution_queue": [],
  "deepnote_notebook_id": "cffb0686-f40c-413a-89fc-7194429e14b8",
  "kernelspec": {
   "display_name": "Python 3",
   "language": "python",
   "name": "python3"
  },
  "language_info": {
   "codemirror_mode": {
    "name": "ipython",
    "version": 3
   },
   "file_extension": ".py",
   "mimetype": "text/x-python",
   "name": "python",
   "nbconvert_exporter": "python",
   "pygments_lexer": "ipython3",
   "version": "3.8.8"
  }
 },
 "nbformat": 4,
 "nbformat_minor": 2
}
